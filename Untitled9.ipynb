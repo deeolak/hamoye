{
  "nbformat": 4,
  "nbformat_minor": 0,
  "metadata": {
    "colab": {
      "provenance": []
    },
    "kernelspec": {
      "name": "python3",
      "display_name": "Python 3"
    },
    "language_info": {
      "name": "python"
    }
  },
  "cells": [
    {
      "cell_type": "code",
      "source": [
        "import pandas as pd\n",
        "import numpy as np\n",
        "df = pd.read_csv('/content/FoodBalanceSheets_E_Africa_NOFLAG.csv', encoding='latin1')\n"
      ],
      "metadata": {
        "id": "whdq6PAflPJ0"
      },
      "execution_count": 9,
      "outputs": []
    },
    {
      "cell_type": "code",
      "source": [
        "grouped_sum = df.groupby('Item')['Y2015'].sum()"
      ],
      "metadata": {
        "id": "gFoi35YZnmNB"
      },
      "execution_count": 14,
      "outputs": []
    },
    {
      "cell_type": "code",
      "source": [
        "print(grouped_sum)"
      ],
      "metadata": {
        "colab": {
          "base_uri": "https://localhost:8080/"
        },
        "id": "fgY7EJ2zo_41",
        "outputId": "4989023f-e56a-4c4a-97ea-570a65d64016"
      },
      "execution_count": 15,
      "outputs": [
        {
          "output_type": "stream",
          "name": "stdout",
          "text": [
            "Item\n",
            "Alcohol, Non-Food        2180.00\n",
            "Alcoholic Beverages     98783.72\n",
            "Animal Products         11811.73\n",
            "Animal fats            200675.72\n",
            "Apples and products     10559.15\n",
            "                         ...    \n",
            "Vegetables, Other      158104.08\n",
            "Vegetal Products       107064.17\n",
            "Wheat and products     234710.51\n",
            "Wine                     4251.81\n",
            "Yams                   203151.78\n",
            "Name: Y2015, Length: 119, dtype: float64\n"
          ]
        }
      ]
    },
    {
      "cell_type": "code",
      "source": [
        "highest = df.groupby('Element')['Y2014', 'Y2015', 'Y2016', 'Y2017'].sum()"
      ],
      "metadata": {
        "colab": {
          "base_uri": "https://localhost:8080/"
        },
        "id": "3-_1lPiEt6uc",
        "outputId": "15b95ee6-885d-4bf1-e65e-1289c37484c3"
      },
      "execution_count": 23,
      "outputs": [
        {
          "output_type": "stream",
          "name": "stderr",
          "text": [
            "<ipython-input-23-8c27c77ea43b>:1: FutureWarning: Indexing with multiple keys (implicitly converted to a tuple of keys) will be deprecated, use a list instead.\n",
            "  highest = df.groupby('Element')['Y2014', 'Y2015', 'Y2016', 'Y2017'].sum()\n"
          ]
        }
      ]
    },
    {
      "cell_type": "code",
      "source": [
        "highest_variation_year = highest.sum(axis=0).idxmax()\n"
      ],
      "metadata": {
        "id": "vjQ6fv41v3yG"
      },
      "execution_count": 24,
      "outputs": []
    },
    {
      "cell_type": "code",
      "source": [
        "print(f\"The year with the highest sum of Stock Variation is {highest_variation_year}.\")"
      ],
      "metadata": {
        "colab": {
          "base_uri": "https://localhost:8080/"
        },
        "id": "cXDjwrdYwFEv",
        "outputId": "d5393f6a-c49b-4e84-e3c4-8332c2fa7d8e"
      },
      "execution_count": 25,
      "outputs": [
        {
          "output_type": "stream",
          "name": "stdout",
          "text": [
            "The year with the highest sum of Stock Variation is Y2017.\n"
          ]
        }
      ]
    },
    {
      "cell_type": "code",
      "source": [
        "groupedarea = df.groupby('Area')['Y2017'].sum()"
      ],
      "metadata": {
        "id": "lT-p2qj0w4LO"
      },
      "execution_count": 26,
      "outputs": []
    },
    {
      "cell_type": "code",
      "source": [
        "print(groupedarea)"
      ],
      "metadata": {
        "colab": {
          "base_uri": "https://localhost:8080/"
        },
        "id": "SOw0NVn_xWKS",
        "outputId": "5575ce1f-c957-4928-c6fb-b455121cdd79"
      },
      "execution_count": 27,
      "outputs": [
        {
          "output_type": "stream",
          "name": "stdout",
          "text": [
            "Area\n",
            "Algeria                         325644.27\n",
            "Angola                          229159.57\n",
            "Benin                           124771.22\n",
            "Botswana                         22101.30\n",
            "Burkina Faso                    101855.07\n",
            "Cabo Verde                       14650.74\n",
            "Cameroon                        232030.43\n",
            "Central African Republic         29937.00\n",
            "Chad                             71594.68\n",
            "Comoros                             59.84\n",
            "Congo                            41181.68\n",
            "Côte d'Ivoire                   224599.01\n",
            "Djibouti                         22729.91\n",
            "Egypt                           866379.92\n",
            "Eswatini                         54343.33\n",
            "Ethiopia                        448683.76\n",
            "Ethiopia PDR                         0.00\n",
            "Gabon                            27979.64\n",
            "Gambia                           23154.18\n",
            "Ghana                           337599.06\n",
            "Guinea                           98138.87\n",
            "Guinea-Bissau                    19102.77\n",
            "Kenya                           264660.66\n",
            "Lesotho                          21267.96\n",
            "Liberia                          29342.20\n",
            "Madagascar                      131197.73\n",
            "Malawi                          181098.71\n",
            "Mali                            149928.33\n",
            "Mauritania                      156665.46\n",
            "Mauritius                        51114.83\n",
            "Morocco                         388495.36\n",
            "Mozambique                      161407.98\n",
            "Namibia                          29874.89\n",
            "Niger                           126707.58\n",
            "Nigeria                        1483268.23\n",
            "Rwanda                           73663.69\n",
            "Sao Tome and Principe            12662.63\n",
            "Senegal                          95681.15\n",
            "Seychelles                         442.34\n",
            "Sierra Leone                     55311.33\n",
            "South Africa                    517590.54\n",
            "Sudan                           239931.92\n",
            "Sudan (former)                       0.00\n",
            "Togo                             49841.88\n",
            "Tunisia                         124167.20\n",
            "Uganda                          213950.38\n",
            "United Republic of Tanzania     322616.85\n",
            "Zambia                          103223.77\n",
            "Zimbabwe                         75919.34\n",
            "Name: Y2017, dtype: float64\n"
          ]
        }
      ]
    },
    {
      "cell_type": "code",
      "source": [],
      "metadata": {
        "id": "UAl-gFzyxfSx"
      },
      "execution_count": null,
      "outputs": []
    }
  ]
}